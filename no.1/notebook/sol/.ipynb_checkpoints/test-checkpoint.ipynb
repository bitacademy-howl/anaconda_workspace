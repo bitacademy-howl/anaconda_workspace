{
 "cells": [
  {
   "cell_type": "code",
   "execution_count": 1,
   "metadata": {},
   "outputs": [],
   "source": [
    "# 11번 문제\n",
    "\n",
    "\n",
    "import numpy as np\n",
    "import scipy.stats as st"
   ]
  },
  {
   "cell_type": "code",
   "execution_count": 2,
   "metadata": {},
   "outputs": [
    {
     "data": {
      "text/plain": [
       "306.168201101068"
      ]
     },
     "execution_count": 2,
     "metadata": {},
     "output_type": "execute_result"
    }
   ],
   "source": [
    "# 중심극한정리를 적용하면, 모집단(100명의) 1인당 평균 소비량은 정규분포를 근사할 수 있다.\n",
    "n=64\n",
    "x_mean = 300\n",
    "SEM = 30/np.sqrt(64)\n",
    "st.norm.ppf(q=0.95, loc = x_mean, scale=SEM)"
   ]
  },
  {
   "cell_type": "code",
   "execution_count": 3,
   "metadata": {},
   "outputs": [],
   "source": [
    "# 12번 문제\n",
    "# 12) 30대 성인남성 25명을 대상으로 조사한 연봉은 다음과 같다. 가장 적합한 방법은??\n",
    "\n",
    "\n",
    "import numpy as np\n",
    "import scipy.stats as st"
   ]
  },
  {
   "cell_type": "code",
   "execution_count": 5,
   "metadata": {},
   "outputs": [
    {
     "data": {
      "text/plain": [
       "(5108.007203091989, 5891.992796908011)"
      ]
     },
     "execution_count": 5,
     "metadata": {},
     "output_type": "execute_result"
    }
   ],
   "source": [
    "# ddof = 1 표본분산, 표본표준편차.\n",
    "n = 25\n",
    "x_mean = 5500\n",
    "s = 1000\n",
    "SEM = s/np.sqrt(n)\n",
    "\n",
    "st.norm.interval(0.95, loc = x_mean, scale = SEM )"
   ]
  },
  {
   "cell_type": "code",
   "execution_count": 6,
   "metadata": {},
   "outputs": [],
   "source": [
    "# 13번"
   ]
  },
  {
   "cell_type": "code",
   "execution_count": 7,
   "metadata": {},
   "outputs": [
    {
     "data": {
      "text/plain": [
       "(0.45249302291006066, 0.6475069770899394)"
      ]
     },
     "execution_count": 7,
     "metadata": {},
     "output_type": "execute_result"
    }
   ],
   "source": [
    "# S사의 신제품에 대한 여론조사를 진행해보니 200명 응답자 중 120명이 구매할 의사가 있다고 긍정적으로 대답하였다. 95%인 확률\n",
    "# 95% 신뢰구간.\n",
    "n_yes = 120\n",
    "n_total = 200\n",
    "p_mean = n_yes/n_total\n",
    "SEM = np.sqrt(p_mean*(1-p_mean)/n_total)\n",
    "st.norm.interval(0.95, loc = p_mean, scale=SEM)"
   ]
  }
 ],
 "metadata": {
  "kernelspec": {
   "display_name": "Python 3",
   "language": "python",
   "name": "python3"
  },
  "language_info": {
   "codemirror_mode": {
    "name": "ipython",
    "version": 3
   },
   "file_extension": ".py",
   "mimetype": "text/x-python",
   "name": "python",
   "nbconvert_exporter": "python",
   "pygments_lexer": "ipython3",
   "version": "3.6.5"
  }
 },
 "nbformat": 4,
 "nbformat_minor": 1
}
