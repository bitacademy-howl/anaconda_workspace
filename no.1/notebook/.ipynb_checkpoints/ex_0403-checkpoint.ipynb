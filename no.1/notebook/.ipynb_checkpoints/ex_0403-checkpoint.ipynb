{
 "cells": [
  {
   "cell_type": "markdown",
   "metadata": {},
   "source": [
    "### 연속확률분포"
   ]
  },
  {
   "cell_type": "code",
   "execution_count": null,
   "metadata": {},
   "outputs": [],
   "source": [
    "import scipy.stats as st\n",
    "import matplotlib.pyplot as plt\n",
    "import numpy as np\n",
    "%matplotlib inline"
   ]
  },
  {
   "cell_type": "markdown",
   "metadata": {},
   "source": [
    "#### 연속균등확률분포"
   ]
  },
  {
   "cell_type": "code",
   "execution_count": null,
   "metadata": {},
   "outputs": [],
   "source": [
    "a = 2000\n",
    "b = 5000\n",
    "base = b - a\n",
    "st.uniform.pdf(4500,a,base)"
   ]
  },
  {
   "cell_type": "code",
   "execution_count": null,
   "metadata": {},
   "outputs": [],
   "source": [
    "# P(a <= x <= 2500)\n",
    "st.uniform.cdf(3500,a,base)"
   ]
  },
  {
   "cell_type": "code",
   "execution_count": null,
   "metadata": {},
   "outputs": [],
   "source": [
    "# P(2500 <= x <=3000)\n",
    "st.uniform.cdf(3000,a,base)-st.uniform.cdf(2500,a,base)"
   ]
  },
  {
   "cell_type": "code",
   "execution_count": null,
   "metadata": {},
   "outputs": [],
   "source": [
    "x=np.linspace(1000,6000,1000)\n",
    "plt.plot(x, st.uniform.pdf(x,a,base),color='red')"
   ]
  },
  {
   "cell_type": "markdown",
   "metadata": {},
   "source": [
    "#### 정규분포함수"
   ]
  },
  {
   "cell_type": "code",
   "execution_count": null,
   "metadata": {},
   "outputs": [],
   "source": [
    "mu = 5\n",
    "sigma = 2\n",
    "st.norm.pdf(0, loc=mu, scale=sigma)"
   ]
  },
  {
   "cell_type": "code",
   "execution_count": null,
   "metadata": {},
   "outputs": [],
   "source": [
    "# P( x <= 5)\n",
    "st.norm.cdf(5,loc = mu, scale=sigma)"
   ]
  },
  {
   "cell_type": "code",
   "execution_count": null,
   "metadata": {},
   "outputs": [],
   "source": [
    "# P( 3 <= x <= 7)\n",
    "st.norm.cdf(7,loc = mu, scale=sigma) - st.norm.cdf(3,loc = mu, scale=sigma)"
   ]
  },
  {
   "cell_type": "code",
   "execution_count": null,
   "metadata": {},
   "outputs": [],
   "source": [
    "# P( 1 <= x <= 9)\n",
    "st.norm.cdf(9,loc = mu, scale=sigma) - st.norm.cdf(1,loc = mu, scale=sigma)"
   ]
  },
  {
   "cell_type": "code",
   "execution_count": null,
   "metadata": {},
   "outputs": [],
   "source": [
    "# P( -1 <= x <= 11)\n",
    "st.norm.cdf(11,loc = mu, scale=sigma) - st.norm.cdf(-1,loc = mu, scale=sigma)"
   ]
  },
  {
   "cell_type": "code",
   "execution_count": null,
   "metadata": {},
   "outputs": [],
   "source": [
    "x=np.linspace(-10,+10,1000)\n",
    "mu=2\n",
    "sigma=1\n",
    "plt.plot(x, st.norm.pdf(x,loc=mu,scale=sigma),color='red')"
   ]
  },
  {
   "cell_type": "markdown",
   "metadata": {},
   "source": [
    "mu의 역할"
   ]
  },
  {
   "cell_type": "code",
   "execution_count": null,
   "metadata": {},
   "outputs": [],
   "source": [
    "x=np.linspace(-10,+10,1000)\n",
    "sigma=1\n",
    "mu_1 = -1\n",
    "mu_2 = 0\n",
    "mu_3 = +1\n",
    "plt.plot(x, st.norm.pdf(x,loc=mu_1,scale=sigma),color='red')\n",
    "plt.plot(x, st.norm.pdf(x,loc=mu_2,scale=sigma),color='green')\n",
    "plt.plot(x, st.norm.pdf(x,loc=mu_3,scale=sigma),color='blue')"
   ]
  },
  {
   "cell_type": "markdown",
   "metadata": {},
   "source": [
    "sigma의 역할"
   ]
  },
  {
   "cell_type": "code",
   "execution_count": null,
   "metadata": {},
   "outputs": [],
   "source": [
    "x=np.linspace(-10,+10,1000)\n",
    "sigma_1 = 1\n",
    "sigma_2 = 2\n",
    "sigma_3 = 3\n",
    "mu = 0\n",
    "plt.plot(x, st.norm.pdf(x,loc=mu,scale=sigma_1),color='red')\n",
    "plt.plot(x, st.norm.pdf(x,loc=mu,scale=sigma_2),color='green')\n",
    "plt.plot(x, st.norm.pdf(x,loc=mu,scale=sigma_3),color='blue')"
   ]
  },
  {
   "cell_type": "markdown",
   "metadata": {},
   "source": [
    "#### 지수분포함수"
   ]
  },
  {
   "cell_type": "markdown",
   "metadata": {},
   "source": [
    "- 알칼라인 배터리의 수명은 lambda = 0.05인 지수분포를 따른다.\n",
    "- 알칼라인 배터리의 수명이 10시간과 15시간 사이에 있을 확률은?"
   ]
  },
  {
   "cell_type": "code",
   "execution_count": null,
   "metadata": {},
   "outputs": [],
   "source": [
    "# lambda를 scale로 변환시켜 주어야 함.\n",
    "lamb = 0.05\n",
    "sc = 1/lamb\n",
    "st.expon.cdf(15, scale=sc) - st.expon.cdf(10, scale=sc)\n"
   ]
  },
  {
   "cell_type": "markdown",
   "metadata": {},
   "source": [
    "- 알칼라인 배터리의 수명은 lambda = 0.05인 지수분포를 따른다.\n",
    "- 알칼라인 배터리의 수명이 t 시간일 확률이 0.39347일 때, t의 값은?"
   ]
  },
  {
   "cell_type": "code",
   "execution_count": null,
   "metadata": {},
   "outputs": [],
   "source": [
    "# lambda를 scale로 변환시켜 주어야 함.\n",
    "lamb = 0.05\n",
    "sc = 1/lamb\n",
    "st.expon.ppf(0.39347, scale=sc)"
   ]
  }
 ],
 "metadata": {
  "kernelspec": {
   "display_name": "Python 3",
   "language": "python",
   "name": "python3"
  },
  "language_info": {
   "codemirror_mode": {
    "name": "ipython",
    "version": 3
   },
   "file_extension": ".py",
   "mimetype": "text/x-python",
   "name": "python",
   "nbconvert_exporter": "python",
   "pygments_lexer": "ipython3",
   "version": "3.6.5"
  }
 },
 "nbformat": 4,
 "nbformat_minor": 2
}
