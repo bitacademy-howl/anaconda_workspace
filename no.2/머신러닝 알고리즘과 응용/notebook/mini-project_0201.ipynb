{
 "cells": [
  {
   "cell_type": "markdown",
   "metadata": {},
   "source": [
    "### 다음 물음에 답하는 코드를 작성하시오. "
   ]
  },
  {
   "cell_type": "markdown",
   "metadata": {},
   "source": [
    "1). A학급의 학생 신장을 조사해 보니 다음과 같다:\n",
    "\n",
    "161.5 <br>\n",
    "155.9 <br>\n",
    "168.7 <br>\n",
    "163.1 <br>\n",
    "170.8 <br>\n",
    "167.2 <br>\n",
    "\n",
    "위 자료를 리스트로 정리해본다."
   ]
  },
  {
   "cell_type": "code",
   "execution_count": null,
   "metadata": {},
   "outputs": [],
   "source": [
    "list1 = [161.5, 155.9 , 168.7 , 163.1 , 170.8 , 167.2 ]"
   ]
  },
  {
   "cell_type": "markdown",
   "metadata": {},
   "source": [
    "리스트와 for 반복문을 사용해서 평균 신장을 구해본다."
   ]
  },
  {
   "cell_type": "code",
   "execution_count": null,
   "metadata": {},
   "outputs": [],
   "source": [
    "sum = 0\n",
    "for i in list1:\n",
    "    sum += i\n",
    "\n",
    "avr1 = sum/len(list1)\n",
    "avr1"
   ]
  },
  {
   "cell_type": "markdown",
   "metadata": {},
   "source": [
    "2). B학급의 학생 신장을 조사해 보니 다음과 같다:\n",
    "\n",
    "172.5 <br>\n",
    "162.9 <br>\n",
    "161.7 <br>\n",
    "160.1 <br>\n",
    "161.8 <br>\n",
    "159.2 <br>\n",
    "\n",
    "A학급과 같은 방법으로 평균 신장을 구해본다."
   ]
  },
  {
   "cell_type": "code",
   "execution_count": null,
   "metadata": {},
   "outputs": [],
   "source": [
    "list2 = [172.5 , 162.9 ,161.7 ,160.1 ,161.8 ,159.2 ]\n",
    "\n",
    "sum = 0\n",
    "for i in list2:\n",
    "    sum += i\n",
    "\n",
    "avr2 = sum/len(list2)\n",
    "avr2"
   ]
  },
  {
   "cell_type": "markdown",
   "metadata": {},
   "source": [
    "3). A학급과 B학급 신장 자료를 통합한 리스트 AB를 만든다. (이어 붙이기) <br>\n",
    "\n",
    "이 통합 리스트 AB를 가지고 평균을 구한다."
   ]
  },
  {
   "cell_type": "code",
   "execution_count": null,
   "metadata": {},
   "outputs": [],
   "source": [
    "list_join = list1+list2\n",
    "list1.extend(list2) # +연산도 가능\n",
    "\n",
    "print(list1)\n",
    "print(list_join)"
   ]
  },
  {
   "cell_type": "markdown",
   "metadata": {},
   "source": [
    "4). 통합 리스트 AB를 정렬해 본다."
   ]
  },
  {
   "cell_type": "code",
   "execution_count": null,
   "metadata": {},
   "outputs": [],
   "source": [
    "# list1.sort()\n",
    "# list2.sort()\n",
    "list_join.sort()\n",
    "\n",
    "print(list1) #not sorted\n",
    "print(list_join) #sorted"
   ]
  },
  {
   "cell_type": "markdown",
   "metadata": {},
   "source": [
    "5). 통합 리스트 AB에서 가장 작은 값을 가져오시오."
   ]
  },
  {
   "cell_type": "code",
   "execution_count": null,
   "metadata": {},
   "outputs": [],
   "source": [
    "mininlist = list_join[0]\n",
    "maxinlist = list_join[-1]\n",
    "\n",
    "print(\"min : \", mininlist, \"\\t\", \"max : \", maxinlist)"
   ]
  },
  {
   "cell_type": "markdown",
   "metadata": {},
   "source": [
    "6). 통합 리스트 AB에서 가장 큰 값을 가져오시오."
   ]
  },
  {
   "cell_type": "code",
   "execution_count": null,
   "metadata": {},
   "outputs": [],
   "source": [
    "mininlist = list_join[0]\n",
    "maxinlist = list_join[-1]\n",
    "\n",
    "print(\"min : \", mininlist, \"\\t\", \"max : \", maxinlist)"
   ]
  },
  {
   "cell_type": "markdown",
   "metadata": {},
   "source": [
    "7). 통합 리스트 AB를 사용하여 신장이 165이하인 학생들 만의 리스트 C를 만든다."
   ]
  },
  {
   "cell_type": "code",
   "execution_count": null,
   "metadata": {},
   "outputs": [],
   "source": [
    "st_lower_165 = []\n",
    "for i in list_join:\n",
    "    if i <= 165:\n",
    "        st_lower_165.append(i)\n",
    "        continue\n",
    "    else:\n",
    "        break\n",
    "\n",
    "print(st_lower_165)"
   ]
  },
  {
   "cell_type": "markdown",
   "metadata": {},
   "source": [
    "리스트 C의 평균을 구하여라."
   ]
  },
  {
   "cell_type": "code",
   "execution_count": null,
   "metadata": {},
   "outputs": [],
   "source": [
    "sum = 0\n",
    "for i in st_lower_165:\n",
    "    sum += i\n",
    "\n",
    "avr_st_lower_165 = sum/len(st_lower_165)\n",
    "print(avr_st_lower_165)"
   ]
  },
  {
   "cell_type": "markdown",
   "metadata": {},
   "source": [
    "8). 통합 리스트 AB를 사용하여 신장이 160이상 170이하인 학생들 만의 리스트 D를 만든다."
   ]
  },
  {
   "cell_type": "code",
   "execution_count": null,
   "metadata": {},
   "outputs": [],
   "source": [
    "# 8). 통합 리스트 AB를 사용하여 신장이 160이상 170이하인 학생들 만의 리스트 D를 만든다.\n",
    "# solution 1 : 포문을 모두 돈다 조건문 두번 수행\n",
    "# 장점 : sorting 되지 않아도 사용 가능\n",
    "# 단점 : 자료가 많은 경우 모든 자료를 비교하기에 빅데이터 관점에서는 개별적 모듈로 부적합\n",
    "st_between_160_170 = []\n",
    "for i in list_join:\n",
    "    if i > 160 and i < 170:\n",
    "        st_between_160_170.append(i)\n",
    "\n",
    "print(st_between_160_170)\n",
    "\n",
    "# solution 2 : for 문을 빠져나오는 조건을 i < 170 으로...\n",
    "# 장점 : for 문을 전부 돌지 않는다.\n",
    "# 한계 : sorting 된 자료를 순차탐색 하는 경우에만 국한\n",
    "st_between_160_170 = []\n",
    "list_join.sort()\n",
    "for i in list_join:\n",
    "    if i >= 170:\n",
    "        break\n",
    "    elif i > 160:\n",
    "        st_between_160_170.append(i)\n",
    "        # continue\n",
    "\n",
    "print(st_between_160_170)"
   ]
  },
  {
   "cell_type": "markdown",
   "metadata": {},
   "source": [
    "리스트 D의 평균을 구하여라."
   ]
  },
  {
   "cell_type": "code",
   "execution_count": null,
   "metadata": {},
   "outputs": [],
   "source": [
    "sum = 0\n",
    "for i in st_between_160_170:\n",
    "    sum += i\n",
    "\n",
    "st_between_160_170 = sum/len(st_between_160_170)\n",
    "print(\"average of st_between_160_170 :\", st_between_160_170)"
   ]
  },
  {
   "cell_type": "code",
   "execution_count": null,
   "metadata": {},
   "outputs": [],
   "source": []
  }
 ],
 "metadata": {
  "kernelspec": {
   "display_name": "Python 3",
   "language": "python",
   "name": "python3"
  },
  "language_info": {
   "codemirror_mode": {
    "name": "ipython",
    "version": 3
   },
   "file_extension": ".py",
   "mimetype": "text/x-python",
   "name": "python",
   "nbconvert_exporter": "python",
   "pygments_lexer": "ipython3",
   "version": "3.6.5"
  }
 },
 "nbformat": 4,
 "nbformat_minor": 2
}
