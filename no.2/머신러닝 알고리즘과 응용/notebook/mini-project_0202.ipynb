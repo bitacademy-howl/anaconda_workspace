{
 "cells": [
  {
   "cell_type": "markdown",
   "metadata": {},
   "source": [
    "### 다음 물음에 답하는 코드를 작성하시오. "
   ]
  },
  {
   "cell_type": "markdown",
   "metadata": {},
   "source": [
    "1). A학급의 학생 이름은 다음과 같다:\n",
    "\n",
    "Bob <br>\n",
    "John <br>\n",
    "Sara <br>\n",
    "Jack <br>\n",
    "John <br>\n",
    "Paul <br>\n",
    "Belinda <br>\n",
    "Jessica <br>\n",
    "\n",
    "위 자료를 리스트 a로 정리해본다."
   ]
  },
  {
   "cell_type": "code",
   "execution_count": 2,
   "metadata": {},
   "outputs": [
    {
     "name": "stdout",
     "output_type": "stream",
     "text": [
      "['Bob', 'John', 'Sara', 'Jack', 'John', 'Paul', 'Belinda', 'Jessica']\n"
     ]
    }
   ],
   "source": [
    "x = '''Bob \n",
    "John \n",
    "Sara \n",
    "Jack \n",
    "John \n",
    "Paul \n",
    "Belinda \n",
    "Jessica '''\n",
    "\n",
    "list1 = x.replace(' ', '').split('\\n')\n",
    "print(list1)"
   ]
  },
  {
   "cell_type": "markdown",
   "metadata": {},
   "source": [
    "학생 이름을 대문자화 한 리스트 A를 만들어 보시오."
   ]
  },
  {
   "cell_type": "code",
   "execution_count": 3,
   "metadata": {},
   "outputs": [
    {
     "name": "stdout",
     "output_type": "stream",
     "text": [
      "['BOB', 'JOHN', 'SARA', 'JACK', 'JOHN', 'PAUL', 'BELINDA', 'JESSICA']\n"
     ]
    }
   ],
   "source": [
    "x = x.upper()\n",
    "list1 = x.replace(' ', '').split('\\n')\n",
    "print(list1)"
   ]
  },
  {
   "cell_type": "markdown",
   "metadata": {},
   "source": [
    "2). A학급의 학생 이름은 다음과 같다:\n",
    "\n",
    "John <br>\n",
    "John <br>\n",
    "Rebecca <br>\n",
    "Paula <br>\n",
    "Brandon <br>\n",
    "Elilzabeth <br>\n",
    "Sara <br>\n",
    "\n",
    "A학급과 같은 방법으로 대문자화 한 리스트 B를 만들어 보시오."
   ]
  },
  {
   "cell_type": "code",
   "execution_count": 4,
   "metadata": {},
   "outputs": [
    {
     "name": "stdout",
     "output_type": "stream",
     "text": [
      "['JOHN', 'JOHN', 'REBECCA', 'PAULA', 'BRANDON', 'ELILZABETH', 'SARA']\n"
     ]
    }
   ],
   "source": [
    "y = '''John \n",
    "John \n",
    "Rebecca \n",
    "Paula \n",
    "Brandon \n",
    "Elilzabeth \n",
    "Sara '''\n",
    "y = y.upper()\n",
    "list2 = y.replace(' ', '').split('\\n')\n",
    "print(list2)"
   ]
  },
  {
   "cell_type": "markdown",
   "metadata": {},
   "source": [
    "3). A학급과 B학급 명부를 통합한 리스트 AB를 만든다. (이어 붙이기) <br>\n",
    "\n",
    "전체 학생수는?"
   ]
  },
  {
   "cell_type": "code",
   "execution_count": 5,
   "metadata": {},
   "outputs": [
    {
     "name": "stdout",
     "output_type": "stream",
     "text": [
      "15\n"
     ]
    }
   ],
   "source": [
    "list_total = list1 + list2\n",
    "print(len(list_total))"
   ]
  },
  {
   "cell_type": "markdown",
   "metadata": {},
   "source": [
    "4). 통합 리스트 AB를 알파벳 순으로 정렬해 본다."
   ]
  },
  {
   "cell_type": "code",
   "execution_count": 6,
   "metadata": {},
   "outputs": [
    {
     "name": "stdout",
     "output_type": "stream",
     "text": [
      "['BELINDA', 'BOB', 'BRANDON', 'ELILZABETH', 'JACK', 'JESSICA', 'JOHN', 'JOHN', 'JOHN', 'JOHN', 'PAUL', 'PAULA', 'REBECCA', 'SARA', 'SARA']\n"
     ]
    }
   ],
   "source": [
    "list_total.sort()\n",
    "print(list_total)"
   ]
  },
  {
   "cell_type": "markdown",
   "metadata": {},
   "source": [
    "5). 통합 리스트 AB에서 서로 다른 이름의 가짓수는?"
   ]
  },
  {
   "cell_type": "code",
   "execution_count": 7,
   "metadata": {},
   "outputs": [
    {
     "name": "stdout",
     "output_type": "stream",
     "text": [
      "<class 'set'> 11 {'BOB', 'ELILZABETH', 'SARA', 'PAULA', 'JOHN', 'JESSICA', 'JACK', 'PAUL', 'REBECCA', 'BELINDA', 'BRANDON'}\n",
      "<class 'list'> 11 ['BOB', 'ELILZABETH', 'SARA', 'PAULA', 'JOHN', 'JESSICA', 'JACK', 'PAUL', 'REBECCA', 'BELINDA', 'BRANDON']\n"
     ]
    }
   ],
   "source": [
    "# sol 1 : set을 이용한 방법\n",
    "set_st = set()\n",
    "\n",
    "for i in list_total:\n",
    "    set_st.add(i)\n",
    "print(type(set_st), len(set_st), set_st)\n",
    "\n",
    "# 만약 set을 리스트로 바꾸려면\n",
    "result = list(set_st)\n",
    "print(type(result), len(result), result)\n",
    "\n",
    "# sol 2 : for 문 돌면서 비교 후 결과리스트에 저장하거나 리스트 자체에서 제거\n",
    "# 코드도 길어지고, 의미도 별로 없으므로 skip\n",
    "# 스튜던트를 각각 객체로 만들고, 학생마다 ID 를 주어야 할 것!\n",
    "# 이 후 ID 로 루프 돌면서 이름이 같은 학생은 list에 append 하지 않고, 어쩌구...\n",
    "# for 문은 이중 포문\n",
    "# for 1 : 본래의 리스트를 반복\n",
    "# for 2 : 반복문 내 i 와 생성된 리스트를 비교"
   ]
  },
  {
   "cell_type": "markdown",
   "metadata": {},
   "source": [
    "6). 통합 리스트 AB에서 'J'로 시작하는 이름만 출력해 본다. "
   ]
  },
  {
   "cell_type": "code",
   "execution_count": 8,
   "metadata": {},
   "outputs": [
    {
     "name": "stdout",
     "output_type": "stream",
     "text": [
      "JACK\n",
      "JESSICA\n",
      "JOHN\n",
      "JOHN\n",
      "JOHN\n",
      "JOHN\n"
     ]
    }
   ],
   "source": [
    "for i in list_total:\n",
    "    if i[0] == 'J':\n",
    "        print(i)"
   ]
  },
  {
   "cell_type": "markdown",
   "metadata": {},
   "source": [
    "7). 통합 리스트 AB에서 'A'로 끝나는 이름만 출력해 본다."
   ]
  },
  {
   "cell_type": "code",
   "execution_count": 9,
   "metadata": {},
   "outputs": [
    {
     "name": "stdout",
     "output_type": "stream",
     "text": [
      "BELINDA\n",
      "JESSICA\n",
      "PAULA\n",
      "REBECCA\n",
      "SARA\n",
      "SARA\n"
     ]
    }
   ],
   "source": [
    "for i in list_total:\n",
    "    if i[-1] == 'A':\n",
    "        print(i)"
   ]
  },
  {
   "cell_type": "code",
   "execution_count": null,
   "metadata": {},
   "outputs": [],
   "source": []
  }
 ],
 "metadata": {
  "kernelspec": {
   "display_name": "Python 3",
   "language": "python",
   "name": "python3"
  },
  "language_info": {
   "codemirror_mode": {
    "name": "ipython",
    "version": 3
   },
   "file_extension": ".py",
   "mimetype": "text/x-python",
   "name": "python",
   "nbconvert_exporter": "python",
   "pygments_lexer": "ipython3",
   "version": "3.6.5"
  }
 },
 "nbformat": 4,
 "nbformat_minor": 2
}
